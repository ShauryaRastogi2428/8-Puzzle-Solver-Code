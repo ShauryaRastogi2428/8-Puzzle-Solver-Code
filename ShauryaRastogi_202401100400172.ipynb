{
  "nbformat": 4,
  "nbformat_minor": 0,
  "metadata": {
    "colab": {
      "provenance": []
    },
    "kernelspec": {
      "name": "python3",
      "display_name": "Python 3"
    },
    "language_info": {
      "name": "python"
    }
  },
  "cells": [
    {
      "cell_type": "code",
      "execution_count": 4,
      "metadata": {
        "colab": {
          "base_uri": "https://localhost:8080/"
        },
        "id": "4At1q55LOU5J",
        "outputId": "0fa15e2a-d2c8-4e07-f4a8-2564dcf66ee0"
      },
      "outputs": [
        {
          "output_type": "stream",
          "name": "stdout",
          "text": [
            "Solution found in 14 moves: Right -> Down -> Left -> Left -> Up -> Right -> Down -> Right -> Up -> Left -> Left -> Down -> Right -> Right\n"
          ]
        }
      ],
      "source": [
        "# 8-Puzzle Solver Code\n",
        "import heapq\n",
        "\n",
        "# Class representing a node in the puzzle\n",
        "class PuzzleNode:\n",
        "    def __init__(self, state, parent=None, move=None, cost=0, depth=0):\n",
        "        self.state = state            # Current state of the puzzle\n",
        "        self.parent = parent          # Parent node (previous state)\n",
        "        self.move = move              # Move made to reach this state\n",
        "        self.cost = cost              # Heuristic cost of this state\n",
        "        self.depth = depth            # Number of moves made so far\n",
        "\n",
        "    # Comparison functions for priority queue\n",
        "    def __lt__(self, other):\n",
        "        return (self.cost + self.depth) < (other.cost + other.depth)\n",
        "\n",
        "    def __eq__(self, other):\n",
        "        return self.state == other.state\n",
        "\n",
        "    def __hash__(self):\n",
        "        return hash(str(self.state))\n",
        "\n",
        "# Heuristic function: Manhattan distance\n",
        "# Calculates how far tiles are from their goal positions\n",
        "def heuristic(state, goal):\n",
        "    distance = 0\n",
        "    for i in range(3):\n",
        "        for j in range(3):\n",
        "            if state[i][j] != 0:\n",
        "                x, y = divmod(goal.index(state[i][j]), 3)\n",
        "                distance += abs(x - i) + abs(y - j)\n",
        "    return distance\n",
        "\n",
        "# Generate all possible neighboring states by sliding the empty tile (0)\n",
        "def get_neighbors(state):\n",
        "    neighbors = []\n",
        "    # Find position of the empty tile\n",
        "    x, y = next((i, j) for i, row in enumerate(state) for j, val in enumerate(row) if val == 0)\n",
        "    # Possible moves\n",
        "    moves = [(x-1, y, 'Up'), (x+1, y, 'Down'), (x, y-1, 'Left'), (x, y+1, 'Right')]\n",
        "\n",
        "    for nx, ny, move in moves:\n",
        "        if 0 <= nx < 3 and 0 <= ny < 3:\n",
        "            # Create a new state by swapping empty tile with adjacent tile\n",
        "            new_state = [row[:] for row in state]\n",
        "            new_state[x][y], new_state[nx][ny] = new_state[nx][ny], new_state[x][y]\n",
        "            neighbors.append((new_state, move))\n",
        "\n",
        "    return neighbors\n",
        "\n",
        "# A* search algorithm to solve the 8-puzzle\n",
        "def solve_8_puzzle(start, goal):\n",
        "    goal_flat = [num for row in goal for num in row]  # Flatten goal state for easy indexing\n",
        "    start_node = PuzzleNode(start, cost=heuristic(start, goal_flat))\n",
        "    frontier = [start_node]  # Priority queue for A* search\n",
        "    explored = set()         # Set of visited states\n",
        "\n",
        "    while frontier:\n",
        "        current = heapq.heappop(frontier)  # Get state with lowest cost\n",
        "\n",
        "        if current.state == goal:  # Goal state reached\n",
        "            moves = []\n",
        "            while current.parent:\n",
        "                moves.append(current.move)\n",
        "                current = current.parent\n",
        "            return moves[::-1]  # Reverse moves to get correct order\n",
        "\n",
        "        explored.add(current)\n",
        "\n",
        "        for neighbor, move in get_neighbors(current.state):\n",
        "            neighbor_node = PuzzleNode(neighbor, current, move, heuristic(neighbor, goal_flat), current.depth + 1)\n",
        "            if neighbor_node not in explored and neighbor_node not in frontier:\n",
        "                heapq.heappush(frontier, neighbor_node)\n",
        "\n",
        "    return None  # No solution found\n",
        "\n",
        "# Main function to execute the solver\n",
        "if __name__ == \"__main__\":\n",
        "    start = [[1, 2, 3], [4, 0, 5], [6, 7, 8]]  # Starting configuration\n",
        "    goal = [[1, 2, 3], [4, 5, 6], [7, 8, 0]]   # Goal configuration\n",
        "    solution = solve_8_puzzle(start, goal)\n",
        "\n",
        "    if solution:\n",
        "        print(f\"Solution found in {len(solution)} moves: {' -> '.join(solution)}\")\n",
        "    else:\n",
        "        print(\"No solution found\")\n"
      ]
    }
  ]
}